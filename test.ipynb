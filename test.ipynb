{
 "cells": [
  {
   "cell_type": "code",
   "execution_count": null,
   "metadata": {},
   "outputs": [
    {
     "name": "stderr",
     "output_type": "stream",
     "text": [
      "c:\\Users\\USER\\Desktop\\vscode_env\\mt3-pytorch\\v2\\mt3-pytorch-2\\venv\\lib\\site-packages\\pydub\\utils.py:170: RuntimeWarning: Couldn't find ffmpeg or avconv - defaulting to ffmpeg, but may not work\n",
      "  warn(\"Couldn't find ffmpeg or avconv - defaulting to ffmpeg, but may not work\", RuntimeWarning)\n",
      "T5ForConditionalGeneration has generative capabilities, as `prepare_inputs_for_generation` is explicitly overwritten. However, it doesn't directly inherit from `GenerationMixin`. From 👉v4.50👈 onwards, `PreTrainedModel` will NOT inherit from `GenerationMixin`, and this model will lose the ability to call `generate` and other related functions.\n",
      "  - If you're using `trust_remote_code=True`, you can get rid of this warning by loading the model with an auto class. See https://huggingface.co/docs/transformers/en/model_doc/auto#auto-classes\n",
      "  - If you are the owner of the model architecture code, please modify your model class such that it inherits from `GenerationMixin` (after `PreTrainedModel`, otherwise you'll get an exception).\n",
      "  - If you are not the owner of the model architecture class, please contact the model code owner to update it.\n",
      "Instantiating a decoder T5Attention without passing `layer_idx` is not recommended and will to errors during the forward call, if caching is used. Please make sure to provide a `layer_idx` when creating this class.\n"
     ]
    },
    {
     "name": "stdout",
     "output_type": "stream",
     "text": [
      "Total Parameters: 45896704\n",
      "Trainable Parameters: 45896704\n"
     ]
    },
    {
     "name": "stderr",
     "output_type": "stream",
     "text": [
      "c:\\Users\\USER\\Desktop\\vscode_env\\mt3-pytorch\\v2\\mt3-pytorch-2\\venv\\lib\\site-packages\\torch\\functional.py:709: UserWarning: A window was not provided. A rectangular window will be applied,which is known to cause spectral leakage. Other windows such as torch.hann_window or torch.hamming_window can are recommended to reduce spectral leakage.To suppress this warning and use a rectangular window, explicitly set `window=torch.ones(n_fft, device=<device>)`. (Triggered internally at C:\\actions-runner\\_work\\pytorch\\pytorch\\pytorch\\aten\\src\\ATen\\native\\SpectralOps.cpp:842.)\n",
      "  return _VF.stft(  # type: ignore[attr-defined]\n",
      "c:\\Users\\USER\\Desktop\\vscode_env\\mt3-pytorch\\v2\\mt3-pytorch-2\\venv\\lib\\site-packages\\torchaudio\\functional\\functional.py:584: UserWarning: At least one mel filterbank has all zero values. The value for `n_mels` (512) may be set too high. Or, the value for `n_freqs` (1025) may be set too low.\n",
      "  warnings.warn(\n"
     ]
    },
    {
     "name": "stdout",
     "output_type": "stream",
     "text": [
      "i:  (256, 128) [[ 0.00314331  0.00430298  0.00302124 ... -0.00146484 -0.0015564\n",
      "  -0.00149536]\n",
      " [-0.00152588 -0.00198364 -0.00140381 ... -0.00775146 -0.00857544\n",
      "  -0.00860596]\n",
      " [-0.00854492 -0.00827026 -0.00772095 ... -0.01321411 -0.01290894\n",
      "  -0.01287842]\n",
      " ...\n",
      " [ 0.04428101  0.03948975  0.034729   ...  0.03140259  0.03213501\n",
      "   0.03219604]\n",
      " [ 0.03308105  0.03405762  0.03277588 ... -0.02398682 -0.02597046\n",
      "  -0.0300293 ]\n",
      " [-0.03289795 -0.03555298 -0.03808594 ... -0.01486206 -0.02313232\n",
      "  -0.0307312 ]]\n",
      "Type of frames: <class 'numpy.ndarray'>\n",
      "i:  (256, 128) [[-0.04077148 -0.05038452 -0.05975342 ... -0.02670288 -0.03503418\n",
      "  -0.04168701]\n",
      " [-0.04473877 -0.04702759 -0.04800415 ... -0.02880859 -0.01599121\n",
      "  -0.0027771 ]\n",
      " [ 0.01077271  0.02532959  0.03863525 ... -0.00860596  0.00775146\n",
      "   0.02151489]\n",
      " ...\n",
      " [ 0.          0.          0.         ...  0.          0.\n",
      "   0.        ]\n",
      " [ 0.          0.          0.         ...  0.          0.\n",
      "   0.        ]\n",
      " [ 0.          0.          0.         ...  0.          0.\n",
      "   0.        ]]\n",
      "Type of frames: <class 'numpy.ndarray'>\n"
     ]
    },
    {
     "name": "stderr",
     "output_type": "stream",
     "text": [
      "  0%|          | 0/2 [00:00<?, ?it/s]c:\\Users\\USER\\Desktop\\vscode_env\\mt3-pytorch\\v2\\mt3-pytorch-2\\venv\\lib\\site-packages\\transformers\\generation\\configuration_utils.py:696: UserWarning: `num_beams` is set to 1. However, `length_penalty` is set to `0.4` -- this flag is only used in beam-based generation modes. You should set `num_beams>1` or unset `length_penalty`.\n",
      "  warnings.warn(\n",
      "c:\\Users\\USER\\Desktop\\vscode_env\\mt3-pytorch\\v2\\mt3-pytorch-2\\venv\\lib\\site-packages\\transformers\\modeling_utils.py:1072: FutureWarning: The `device` argument is deprecated and will be removed in v5 of Transformers.\n",
      "  warnings.warn(\n",
      "c:\\Users\\USER\\Desktop\\vscode_env\\mt3-pytorch\\v2\\mt3-pytorch-2\\venv\\lib\\site-packages\\transformers\\modeling_utils.py:1026: FutureWarning: The `device` argument is deprecated and will be removed in v5 of Transformers.\n",
      "  warnings.warn(\n",
      "100%|██████████| 2/2 [00:00<00:00,  4.26it/s]"
     ]
    },
    {
     "name": "stdout",
     "output_type": "stream",
     "text": [
      "--> predictions_np: 2\n",
      "--> frame_times: (2, 256) 1\n",
      "0 0\n",
      "1 0\n",
      "--> predictions: [{'est_tokens': array([1131,  107, 1184, 1130, 1054, 1057,  165, 1129, 1054, 1057,  166,\n",
      "       1130, 1054, 1057, 1061]), 'start_time': np.float64(0.0), 'raw_inputs': []}, {'est_tokens': array([1220, 1042, 1131]), 'start_time': np.float64(2.04), 'raw_inputs': []}]\n"
     ]
    },
    {
     "name": "stderr",
     "output_type": "stream",
     "text": [
      "\n"
     ]
    }
   ],
   "source": [
    "from inference import InferenceHandler\n",
    "\n",
    "handler = InferenceHandler('./pretrained')\n",
    "# handler.inference('./data/short.wav')\n",
    "handler.inference('./data/maestro_0_orig.wav')"
   ]
  },
  {
   "cell_type": "code",
   "execution_count": null,
   "metadata": {},
   "outputs": [],
   "source": []
  }
 ],
 "metadata": {
  "kernelspec": {
   "display_name": "venv",
   "language": "python",
   "name": "python3"
  },
  "language_info": {
   "codemirror_mode": {
    "name": "ipython",
    "version": 3
   },
   "file_extension": ".py",
   "mimetype": "text/x-python",
   "name": "python",
   "nbconvert_exporter": "python",
   "pygments_lexer": "ipython3",
   "version": "3.10.2"
  }
 },
 "nbformat": 4,
 "nbformat_minor": 2
}
